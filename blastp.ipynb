{
 "cells": [
  {
   "cell_type": "code",
   "execution_count": 5,
   "metadata": {},
   "outputs": [],
   "source": [
    "from Bio.Blast import NCBIWWW, NCBIXML"
   ]
  },
  {
   "cell_type": "code",
   "execution_count": 9,
   "metadata": {},
   "outputs": [
    {
     "ename": "ValueError",
     "evalue": "Error message from NCBI: Message ID#24 Error: Failed to read the Blast query: Protein FASTA provided for nucleotide sequence",
     "output_type": "error",
     "traceback": [
      "\u001b[0;31m---------------------------------------------------------------------------\u001b[0m",
      "\u001b[0;31mValueError\u001b[0m                                Traceback (most recent call last)",
      "Cell \u001b[0;32mIn[9], line 10\u001b[0m\n\u001b[1;32m      7\u001b[0m seq \u001b[39m=\u001b[39m \u001b[39m\"\u001b[39m\u001b[39mA B C D E F G A B C D E F G A B C D E F G A B C D E F G A B C D E F G A B C D E F G A B C D E F G A B C D E F G A B C D E F G A B C D E F G A B C D E F G\u001b[39m\u001b[39m\"\u001b[39m\n\u001b[1;32m      9\u001b[0m \u001b[39m# Run the BLAST search and parse the results\u001b[39;00m\n\u001b[0;32m---> 10\u001b[0m result_handle \u001b[39m=\u001b[39m NCBIWWW\u001b[39m.\u001b[39;49mqblast(blast_program, database, seq)\n\u001b[1;32m     11\u001b[0m \u001b[39mprint\u001b[39m(\u001b[39m\"\u001b[39m\u001b[39mBLAST search complete\u001b[39m\u001b[39m\"\u001b[39m)\n\u001b[1;32m     12\u001b[0m blast_records \u001b[39m=\u001b[39m NCBIXML\u001b[39m.\u001b[39mparse(result_handle)\n",
      "File \u001b[0;32m~/miniconda3/lib/python3.9/site-packages/Bio/Blast/NCBIWWW.py:230\u001b[0m, in \u001b[0;36mqblast\u001b[0;34m(program, database, sequence, url_base, auto_format, composition_based_statistics, db_genetic_code, endpoints, entrez_query, expect, filter, gapcosts, genetic_code, hitlist_size, i_thresh, layout, lcase_mask, matrix_name, nucl_penalty, nucl_reward, other_advanced, perc_ident, phi_pattern, query_file, query_believe_defline, query_from, query_to, searchsp_eff, service, threshold, ungapped_alignment, word_size, short_query, alignments, alignment_view, descriptions, entrez_links_new_window, expect_low, expect_high, format_entrez_query, format_object, format_type, ncbi_gi, results_file, show_overview, megablast, template_type, template_length, username, password)\u001b[0m\n\u001b[1;32m    226\u001b[0m handle \u001b[39m=\u001b[39m urlopen(request)\n\u001b[1;32m    228\u001b[0m \u001b[39m# Format the \"Get\" command, which gets the formatted results from qblast\u001b[39;00m\n\u001b[1;32m    229\u001b[0m \u001b[39m# Parameters taken from http://www.ncbi.nlm.nih.gov/BLAST/Doc/node6.html on 9 July 2007\u001b[39;00m\n\u001b[0;32m--> 230\u001b[0m rid, rtoe \u001b[39m=\u001b[39m _parse_qblast_ref_page(handle)\n\u001b[1;32m    231\u001b[0m parameters \u001b[39m=\u001b[39m {\n\u001b[1;32m    232\u001b[0m     \u001b[39m\"\u001b[39m\u001b[39mALIGNMENTS\u001b[39m\u001b[39m\"\u001b[39m: alignments,\n\u001b[1;32m    233\u001b[0m     \u001b[39m\"\u001b[39m\u001b[39mALIGNMENT_VIEW\u001b[39m\u001b[39m\"\u001b[39m: alignment_view,\n\u001b[0;32m   (...)\u001b[0m\n\u001b[1;32m    246\u001b[0m     \u001b[39m\"\u001b[39m\u001b[39mCMD\u001b[39m\u001b[39m\"\u001b[39m: \u001b[39m\"\u001b[39m\u001b[39mGet\u001b[39m\u001b[39m\"\u001b[39m,\n\u001b[1;32m    247\u001b[0m }\n\u001b[1;32m    248\u001b[0m parameters \u001b[39m=\u001b[39m {key: value \u001b[39mfor\u001b[39;00m key, value \u001b[39min\u001b[39;00m parameters\u001b[39m.\u001b[39mitems() \u001b[39mif\u001b[39;00m value \u001b[39mis\u001b[39;00m \u001b[39mnot\u001b[39;00m \u001b[39mNone\u001b[39;00m}\n",
      "File \u001b[0;32m~/miniconda3/lib/python3.9/site-packages/Bio/Blast/NCBIWWW.py:340\u001b[0m, in \u001b[0;36m_parse_qblast_ref_page\u001b[0;34m(handle)\u001b[0m\n\u001b[1;32m    338\u001b[0m     msg \u001b[39m=\u001b[39m msg\u001b[39m.\u001b[39msplit(\u001b[39m\"\u001b[39m\u001b[39m</p>\u001b[39m\u001b[39m\"\u001b[39m, \u001b[39m1\u001b[39m)[\u001b[39m0\u001b[39m]\u001b[39m.\u001b[39msplit(\u001b[39m\"\u001b[39m\u001b[39m\\n\u001b[39;00m\u001b[39m\"\u001b[39m, \u001b[39m1\u001b[39m)[\u001b[39m0\u001b[39m]\u001b[39m.\u001b[39mstrip()\n\u001b[1;32m    339\u001b[0m     \u001b[39mif\u001b[39;00m msg:\n\u001b[0;32m--> 340\u001b[0m         \u001b[39mraise\u001b[39;00m \u001b[39mValueError\u001b[39;00m(\u001b[39mf\u001b[39m\u001b[39m\"\u001b[39m\u001b[39mError message from NCBI: \u001b[39m\u001b[39m{\u001b[39;00mmsg\u001b[39m}\u001b[39;00m\u001b[39m\"\u001b[39m)\n\u001b[1;32m    341\u001b[0m \u001b[39m# Generic search based on the way the error messages start:\u001b[39;00m\n\u001b[1;32m    342\u001b[0m i \u001b[39m=\u001b[39m s\u001b[39m.\u001b[39mfind(\u001b[39m\"\u001b[39m\u001b[39mMessage ID#\u001b[39m\u001b[39m\"\u001b[39m)\n",
      "\u001b[0;31mValueError\u001b[0m: Error message from NCBI: Message ID#24 Error: Failed to read the Blast query: Protein FASTA provided for nucleotide sequence"
     ]
    }
   ],
   "source": [
    "\n",
    "\n",
    "# Set up the BLAST search parameters\n",
    "blast_program = \"blastn\"\n",
    "database = \"nr\"\n",
    "# evalue_threshold = 0.01\n",
    "\n",
    "# Input sequence\n",
    "seq = \"A B C D E F G A B C D E F G A B C D E F G A B C D E F G A B C D E F G A B C D E F G A B C D E F G A B C D E F G A B C D E F G A B C D E F G A B C D E F G\"\n",
    "\n",
    "# Run the BLAST search and parse the results\n",
    "result_handle = NCBIWWW.qblast(blast_program, database, seq)\n",
    "print(\"BLAST search complete\")\n",
    "blast_records = NCBIXML.parse(result_handle)\n",
    "\n",
    "print(blast_records)\n",
    "# Extract the top hits and their similarity scores\n",
    "# hits = [(alignment.title, hsp.score, hsp.expect, hsp.sbjct)\n",
    "#         for record in blast_records\n",
    "#         for alignment in record.alignments\n",
    "#         for hsp in alignment.hsps\n",
    "#         if hsp.expect < evalue_threshold]\n",
    "\n",
    "# for hit in hits:\n",
    "#     print(f\"Hit: {hit[0]}\")\n",
    "#     print(f\"Score: {hit[1]}\")\n",
    "#     print(f\"Expect value: {hit[2]}\")\n",
    "#     print(f\"Sequence: {hit[3]}\\n\")\n"
   ]
  },
  {
   "cell_type": "code",
   "execution_count": null,
   "metadata": {},
   "outputs": [],
   "source": []
  },
  {
   "cell_type": "code",
   "execution_count": null,
   "metadata": {},
   "outputs": [],
   "source": []
  }
 ],
 "metadata": {
  "kernelspec": {
   "display_name": "base",
   "language": "python",
   "name": "python3"
  },
  "language_info": {
   "codemirror_mode": {
    "name": "ipython",
    "version": 3
   },
   "file_extension": ".py",
   "mimetype": "text/x-python",
   "name": "python",
   "nbconvert_exporter": "python",
   "pygments_lexer": "ipython3",
   "version": "3.9.12"
  },
  "orig_nbformat": 4
 },
 "nbformat": 4,
 "nbformat_minor": 2
}
